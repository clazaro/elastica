{
 "cells": [
  {
   "cell_type": "markdown",
   "metadata": {},
   "source": [
    "&copy;  C. Lázaro, Universidad Politécnica de Valencia, 2015"
   ]
  },
  {
   "cell_type": "markdown",
   "metadata": {},
   "source": [
    "# Form finding of planar flexible rods (6)"
   ]
  },
  {
   "cell_type": "markdown",
   "metadata": {},
   "source": [
    "Summary of main results from 2DRodFF_3 & 2DRodFF_5 and formfinding tool for single rods"
   ]
  },
  {
   "cell_type": "code",
   "execution_count": 1,
   "metadata": {
    "collapsed": false
   },
   "outputs": [],
   "source": [
    "import numpy as np\n",
    "import matplotlib\n",
    "import matplotlib.pyplot as plt\n",
    "from mpl_toolkits.mplot3d import Axes3D\n",
    "%matplotlib inline"
   ]
  },
  {
   "cell_type": "code",
   "execution_count": 2,
   "metadata": {
    "collapsed": false
   },
   "outputs": [],
   "source": [
    "import scipy.special as sp\n",
    "from scipy.optimize import brentq"
   ]
  },
  {
   "cell_type": "markdown",
   "metadata": {},
   "source": [
    "## 1 Complex force densities"
   ]
  },
  {
   "cell_type": "markdown",
   "metadata": {},
   "source": [
    "The 2D formfinding equations in complex form are"
   ]
  },
  {
   "cell_type": "markdown",
   "metadata": {},
   "source": [
    "$$\\mathbf{D}_l = \\mathbf{C}_l^{\\mathsf{T}} \\,\\mathbf{P}\\,\\mathbf{C}_l$$\n",
    "$$\\mathbf{D}_f = \\mathbf{C}_l^{\\mathsf{T}} \\,\\mathbf{P}\\,\\mathbf{C}_f $$\n",
    "$$\\mathbf{\\gamma}_l = \\mathbf{D}_l^{-1} \\bigl( \\mathbf{\\phi}_l - \\mathbf{D}_f \\,\\mathbf{\\gamma}_f \\bigr)$$"
   ]
  },
  {
   "cell_type": "markdown",
   "metadata": {},
   "source": [
    "Where the diagonal elements of the force density matrix are the complex force densities\n",
    "$$q_{IJ} = r_{IJ} + i \\,s_{IJ}$$\n",
    "$r_{IJ} = R_{IJ}/d_{IJ}$ is the tension (compression) tension density and $s_{IJ} = S_{IJ}/d_{IJ}$ the transverse force density.  \n",
    "$\\mathbf{C}_l$, $\\mathbf{C}_f$ are the connectivity matrixes."
   ]
  },
  {
   "cell_type": "code",
   "execution_count": 114,
   "metadata": {
    "collapsed": false
   },
   "outputs": [],
   "source": [
    "class StructuralMember:\n",
    "    def __init__(self, startNode, endNode, complexq):\n",
    "        self.startNode = startNode\n",
    "        self.endNode = endNode\n",
    "        self.complexq = complexq\n",
    "        \n",
    "        self.gammaA = None\n",
    "        self.gammaB = None\n",
    "        self.dAB = None\n",
    "        self.R = None\n",
    "        self.S = None\n",
    "        self.MA = None\n",
    "        self.MB = None\n",
    "        \n",
    "    def setActiveParams(self, gammaA, gammaB, MA):\n",
    "        self.gammaA = gammaA\n",
    "        self.gammaB = gammaB\n",
    "        self.dAB = np.absolute(gammaB - gammaA)\n",
    "        \n",
    "        self.MA = MA\n",
    "        self.R = self.complexq.real*self.dAB\n",
    "        self.S = self.complexq.imag*self.dAB\n",
    "        self.MB = self.MA - self.S*self.dAB\n",
    "        \n",
    "        self.EI = 500.\n",
    "        \n",
    "        "
   ]
  },
  {
   "cell_type": "code",
   "execution_count": 175,
   "metadata": {
    "collapsed": false
   },
   "outputs": [
    {
     "name": "stdout",
     "output_type": "stream",
     "text": [
      "Fixed nodes\n",
      "[-5.+0.j   0.+2.5j  0.-2.5j  5.+0.j ]\n",
      "\n",
      "Connectivity matrix\n",
      "[[ 1.  0. -1.  0.  0.  0.]\n",
      " [ 1. -1.  0.  0.  0.  0.]\n",
      " [ 0.  1.  0.  0.  0. -1.]\n",
      " [ 1.  0.  0. -1.  0.  0.]\n",
      " [ 0.  1.  0.  0. -1.  0.]]\n",
      "\n",
      "Complex force densities\n",
      "[[-5. +5.j  0. +0.j  0. +0.j  0. +0.j  0. +0.j]\n",
      " [ 0. +0.j -5.-15.j  0. +0.j  0. +0.j  0. +0.j]\n",
      " [ 0. +0.j  0. +0.j -5. +5.j  0. +0.j  0. +0.j]\n",
      " [ 0. +0.j  0. +0.j  0. +0.j  0. +0.j  0. +0.j]\n",
      " [ 0. +0.j  0. +0.j  0. +0.j  0. +0.j  0. +0.j]]\n",
      "\n",
      "External forces\n",
      "[ 0.+0.j  0.+0.j]\n",
      "\n"
     ]
    }
   ],
   "source": [
    "# Input data\n",
    "\n",
    "# Total number of nodes\n",
    "NN = 6    \n",
    "\n",
    "# Fixed nodes\n",
    "gammaF = np.array([\n",
    "complex(-5., 0.),    \n",
    "complex(0., 2.5),   \n",
    "complex(0., -2.5),  \n",
    "complex(5., 0.)\n",
    "])\n",
    "NF = len(gammaF)    # number of fixed nodes\n",
    "print('Fixed nodes')\n",
    "print(gammaF)\n",
    "print\n",
    "\n",
    "# Structural Members\n",
    "# Active Members\n",
    "rng_activeMember = []\n",
    "rng_activeMember.append(StructuralMember(0, 2, complex(-5., 5.)))\n",
    "rng_activeMember.append(StructuralMember(0, 1, complex(-5., -15.)))\n",
    "rng_activeMember.append(StructuralMember(1, 5, complex(-5., 5.)))\n",
    "# Tension members\n",
    "rng_tensionMember = []\n",
    "rng_tensionMember.append(StructuralMember(0, 3, 0.))\n",
    "rng_tensionMember.append(StructuralMember(1, 4, 0.))\n",
    "\n",
    "# Number of members\n",
    "MMA = len(rng_activeMember)    # Bending active members\n",
    "MMT = len(rng_tensionMember)    # Tension active members\n",
    "MM = MMA + MMT\n",
    "\n",
    "# Connectivity matrix\n",
    "C = np.zeros((MM, NN))\n",
    "i = 0\n",
    "for member in rng_activeMember:\n",
    "    C[i, member.startNode] = 1\n",
    "    C[i, member.endNode] = -1\n",
    "    i += 1\n",
    "for member in rng_tensionMember:\n",
    "    C[i, member.startNode] = 1\n",
    "    C[i, member.endNode] = -1\n",
    "    i += 1\n",
    "\n",
    "CL = C[:, 0:(NN - NF)]\n",
    "CF = C[:, (NN - NF):]\n",
    "print('Connectivity matrix')\n",
    "print(C)\n",
    "print\n",
    "\n",
    "# Force densities in kN/m corresponding to every element\n",
    "q = []\n",
    "for activeMember in rng_activeMember:\n",
    "    q.append(activeMember.complexq)\n",
    "for tensionMember in rng_tensionMember:\n",
    "    q.append(tensionMember.complexq)\n",
    "\n",
    "qQ = np.diagflat(q)\n",
    "print('Complex force densities')\n",
    "print(qQ)\n",
    "print\n",
    "\n",
    "# External forces\n",
    "fL = np.array([\n",
    "complex(0., 0.),\n",
    "complex(0., 0.)\n",
    "])\n",
    "print('External forces')\n",
    "print(fL)\n",
    "print"
   ]
  },
  {
   "cell_type": "code",
   "execution_count": 176,
   "metadata": {
    "collapsed": false
   },
   "outputs": [
    {
     "name": "stdout",
     "output_type": "stream",
     "text": [
      "Free node coordinates\n",
      "[ 0.29411765+1.17647059j -0.29411765-1.17647059j]\n",
      "\n"
     ]
    }
   ],
   "source": [
    "# Solution of the force density equations\n",
    "\n",
    "gammaL = np.zeros(NN - NF)\n",
    "DL = np.zeros((NN - NF, NN - NF))\n",
    "DF = np.zeros((NN - NF, NF))\n",
    "\n",
    "DL = np.dot(np.transpose(CL), np.dot(qQ, CL))\n",
    "DF = np.dot(np.transpose(CL), np.dot(qQ, CF))\n",
    "\n",
    "gammaL = np.linalg.solve(DL, fL - np.dot(DF, gammaF))\n",
    "print('Free node coordinates')\n",
    "print(gammaL)\n",
    "print"
   ]
  },
  {
   "cell_type": "code",
   "execution_count": 177,
   "metadata": {
    "collapsed": false
   },
   "outputs": [],
   "source": [
    "rng_gamma = np.concatenate((gammaL, gammaF), axis=0)"
   ]
  },
  {
   "cell_type": "code",
   "execution_count": 178,
   "metadata": {
    "collapsed": false
   },
   "outputs": [
    {
     "data": {
      "text/plain": [
       "<matplotlib.text.Text at 0xcbaf438>"
      ]
     },
     "execution_count": 178,
     "metadata": {},
     "output_type": "execute_result"
    },
    {
     "data": {
      "image/png": "[encoded data removed]",
      "text/plain": [
       "<matplotlib.figure.Figure at 0xc9943c8>"
      ]
     },
     "metadata": {},
     "output_type": "display_data"
    }
   ],
   "source": [
    "fig = plt.figure(figsize=(9,9))\n",
    "\n",
    "ax = fig.gca(aspect='equal')\n",
    "ax.scatter(gammaF.real, gammaF.imag, color='b')\n",
    "ax.scatter(gammaL.real, gammaL.imag, color='r')\n",
    "ax.set_xlabel('$x$')\n",
    "ax.set_ylabel('$y$')"
   ]
  },
  {
   "cell_type": "markdown",
   "metadata": {},
   "source": [
    "## 2 Form-finding tool for a single rod"
   ]
  },
  {
   "cell_type": "code",
   "execution_count": 179,
   "metadata": {
    "collapsed": false
   },
   "outputs": [],
   "source": [
    "def omegaDeltaomega(muA, muB, flag, k):\n",
    "    if (k<1E-8):\n",
    "        omega_0 = -.5*np.pi\n",
    "        Deltaomega_0 = np.pi\n",
    "    else:\n",
    "        if (muA >= 0):\n",
    "            omega_0 = np.arccos(np.pi*muA/2./k)                                  # OK\n",
    "            Deltaomega_0 = np.arccos(np.pi*muB/2./k) - omega_0                   # OK\n",
    "            omega_1 = -np.arccos(np.pi*muA/2./k)                                 # OK\n",
    "            Deltaomega_1 = np.arccos(np.pi*muB/2./k) - omega_1                   # OK\n",
    "        else:\n",
    "            omega_1 = np.arccos(np.pi*muA/2./k) - 2*np.pi\n",
    "            omega_0 = -np.arccos(np.pi*muA/2./k)                                 # OK\n",
    "            if (muB >= 0):\n",
    "                Deltaomega_1 = -np.arccos(np.pi*muB/2./k) - omega_1\n",
    "                Deltaomega_0 = -np.arccos(np.pi*muB/2./k) - omega_0              # OK\n",
    "            else:\n",
    "                Deltaomega_1 = -np.arccos(np.pi*muB/2./k) - omega_1\n",
    "                Deltaomega_0 = -np.arccos(np.pi*muB/2./k) - omega_0              # OK\n",
    "        \n",
    "    if (flag == 0):\n",
    "        print('omega_0 = {0:.5f},    Deltaomega_0 = {1:.5f}'.format(omega_0, Deltaomega_0))\n",
    "        return(omega_0, Deltaomega_0)\n",
    "    else:\n",
    "        print('omega_1 = {0:.5f},    Deltaomega_1 = {1:.5f}'.format(omega_1, Deltaomega_1))\n",
    "        return(omega_1, Deltaomega_1)\n",
    "    "
   ]
  },
  {
   "cell_type": "code",
   "execution_count": 180,
   "metadata": {
    "collapsed": false
   },
   "outputs": [],
   "source": [
    "def lmbdk(muA, muB, flag, k):\n",
    "    wA, Deltaw = omegaDeltaomega(muA, muB, flag, k)\n",
    "    Deltaxi = (2*(sp.ellipeinc(wA+Deltaw,k**2) - sp.ellipeinc(wA,k**2)) - (sp.ellipkinc(wA+Deltaw,k**2) - sp.ellipkinc(wA,k**2)))/np.pi\n",
    "    Deltaeta = -2*k*(np.cos(wA+Deltaw) - np.cos(wA))/np.pi\n",
    "    lmbd = np.sqrt(Deltaxi**2 + Deltaeta**2)\n",
    "    return(lmbd)"
   ]
  },
  {
   "cell_type": "code",
   "execution_count": 181,
   "metadata": {
    "collapsed": false
   },
   "outputs": [],
   "source": [
    "class F:\n",
    "    def __init__(self, muA, muB, lmbdAB, flag):\n",
    "        self.muA = muA\n",
    "        self.muB = muB\n",
    "        self.lmbdAB = lmbdAB\n",
    "        self.flag = flag\n",
    "        \n",
    "    def __call__(self, k):\n",
    "        lmbd = lmbdk(self.muA, self.muB, self.flag, k)\n",
    "        return(self.lmbdAB - lmbd)"
   ]
  },
  {
   "cell_type": "code",
   "execution_count": 182,
   "metadata": {
    "collapsed": false
   },
   "outputs": [],
   "source": [
    "class Elastica:\n",
    "    def __init__(self, gammaA=None, gammaB=None, R=None, MA=None, MB=None, EI=None):\n",
    "        self.gammaA = gammaA\n",
    "        self.gammaB = gammaB\n",
    "        self.beta = np.angle(gammaB - gammaA)\n",
    "        \n",
    "        self.R = R\n",
    "        self.MA = MA\n",
    "        self.MB = MB\n",
    "        self.EI = EI\n",
    "        \n",
    "        self.dAB = np.absolute(gammaB - gammaA)        # Distance between rod end-sections\n",
    "        self.S = (MA - MB)/self.dAB                    # Shear force S (perpendicular to R)\n",
    "        self.P = - np.sqrt(R**2 + self.S**2)           # Invariant compressive force\n",
    "        self.lcrit = np.pi*np.sqrt(EI/abs(self.P))     # Critical length\n",
    "        \n",
    "        self.lmbdAB = self.dAB/self.lcrit              # Normalized distance\n",
    "        self.muA = MA/abs(self.P)/self.lcrit           # Adimensional moments\n",
    "        self.muB = MB/abs(self.P)/self.lcrit\n",
    "        \n",
    "        self.flag = 0\n",
    "        \n",
    "        self.k = None                                  # k parameter, to be computed\n",
    "        self.HmodP = None                              # H/|P| = -cos(theta_0)\n",
    "        \n",
    "        self.alpha = None\n",
    "        self.phiA = None\n",
    "        self.phiB = None\n",
    "    \n",
    "    def data(self):\n",
    "        print('  dAB = {0:8.4f}  m'.format(self.dAB))\n",
    "        print('    R = {0:8.4f} kN,          S = {1:8.4f} kN'.format(self.R, self.S))\n",
    "        print('    P = {0:8.4f} kN'.format(self.P))\n",
    "        print('lcrit = {0:8.4f} m,    lambdaAB = {1:8.4f}'.format(self.lcrit, self.lmbdAB))\n",
    "        print('   MA = {0:8.4f},            MB = {1:8.4f}'.format(self.MA, self.MB))\n",
    "        print('  muA = {0:8.4f},           muB = {1:8.4f}'.format(self.muA, self.muB))\n",
    "    \n",
    "    def compute_k(self):\n",
    "        muA = self.muA\n",
    "        muB = self.muB\n",
    "        lmbdAB = self.lmbdAB\n",
    "        flag = self.flag\n",
    "        \n",
    "        if (abs(muA)<1E-8 and abs(muB)< 1E-8):\n",
    "            kmin = 0.\n",
    "        else:\n",
    "            kmin = max(np.pi*abs(muA)/2., np.pi*abs(muB)/2.) # Lowest possible value for k\n",
    "        print('kmin = {0:.5f}'.format(kmin))\n",
    "        \n",
    "        rng_k = np.arange(kmin, 1., 0.05)\n",
    "        rng_f = []\n",
    "        flag = 0\n",
    "        print('\\nflag = {}'.format(flag))\n",
    "        i = 0\n",
    "        for k in rng_k:\n",
    "            print(i)\n",
    "            lmbd = lmbdk(muA, muB, flag, k)\n",
    "            f = lmbdAB - lmbd\n",
    "            rng_f.append(f)\n",
    "            print('k = {0:.5f},    lmbd = {1:.5f},    f = {2:.5f},'.format(k, lmbd, f))\n",
    "            i += 1\n",
    "        rng_signf = np.sign(np.asarray(rng_f))\n",
    "        rng_index = rng_signf[:-1] + rng_signf[1:]\n",
    "        rng_index = rng_index.tolist()\n",
    "        print(rng_index)\n",
    "        \n",
    "        if 0. in rng_index:\n",
    "            index00 = rng_index.index(0.)\n",
    "            index01 = len(rng_index) - (rng_index[::-1]).index(0.) - 1\n",
    "            print(index00, index01)\n",
    "        else:\n",
    "            rng_f = []\n",
    "            flag = 1\n",
    "            print('\\nflag = {}'.format(flag))\n",
    "            i = 0\n",
    "            for k in rng_k:\n",
    "                print(i)\n",
    "                lmbd = lmbdk(muA, muB, flag, k)\n",
    "                f = lmbdAB - lmbd\n",
    "                rng_f.append(f)\n",
    "                print('k = {0:.5f},    lmbd = {1:.5f},    f = {2:.5f},'.format(k, lmbd, f))\n",
    "                i += 1\n",
    "            rng_signf = np.sign(np.asarray(rng_f))\n",
    "            rng_index = rng_signf[:-1] + rng_signf[1:]\n",
    "            rng_index = rng_index.tolist()\n",
    "            print(rng_index)\n",
    "            \n",
    "            index00 = rng_index.index(0.)\n",
    "            index01 = len(rng_index) - (rng_index[::-1]).index(0.) - 1\n",
    "            #print(index00, index01)        \n",
    "                \n",
    "        HmodP00 = -np.cos(2*np.arcsin(rng_k[index00]))\n",
    "        HmodP01 = -np.cos(2*np.arcsin(rng_k[index01]))\n",
    "        print('H/|P|00 = {0:.5f},    H/|P|01 = {1:.5f}'.format(HmodP00, HmodP01))\n",
    "        if (index00==index01):\n",
    "            index0 = index00\n",
    "        else:\n",
    "            if (HmodP00<=HmodP01):\n",
    "                index0 = index00\n",
    "            else:\n",
    "                index0 = index01\n",
    "        print(index0)\n",
    "        \n",
    "        ka = rng_k[index0]\n",
    "        kb = rng_k[index0+1]\n",
    "        print('ka = {0:.5f},    kb = {1:.5f}'.format(ka, kb))\n",
    "        \n",
    "        f = F(muA, muB, lmbdAB, flag)\n",
    "        self.k = brentq(f, ka, kb)    # Solve for k\n",
    "        self.HmodP = -np.cos(2*np.arcsin(self.k))\n",
    "        self.flag = flag\n",
    "        print('k = {0:.5f},    H/|P| = {1:.5f}'.format(self.k, self.HmodP))\n",
    "        \n",
    "    def compute_Config(self):\n",
    "        gammaA = self.gammaA\n",
    "        beta = self.beta\n",
    "        muA = self.muA\n",
    "        muB = self.muB\n",
    "        lcrit = self.lcrit\n",
    "        flag = self.flag\n",
    "        try:\n",
    "            k = float(self.k)\n",
    "        except ValueError:\n",
    "            raise ValueError('Method .compute_k has to be executed first')\n",
    "                    \n",
    "        nVertex = 101\n",
    "        (wA, Deltaw) = omegaDeltaomega(muA, muB, flag, k)\n",
    "        if (wA>0 and Deltaw<0):\n",
    "            wA = -wA\n",
    "            Deltaw = -Deltaw\n",
    "        rng_w = np.linspace(wA, wA+Deltaw, nVertex)\n",
    "        \n",
    "        rng_zeta = []\n",
    "        rng_xi = []\n",
    "        rng_eta = []\n",
    "        for w in rng_w:\n",
    "            zeta = (sp.ellipkinc(w,k**2) + sp.ellipk(k**2))/np.pi\n",
    "            xi = 2*(sp.ellipeinc(w,k**2) + sp.ellipe(k**2))/np.pi - zeta\n",
    "            eta = -2*k*np.cos(w)/np.pi\n",
    "            rng_zeta.append(zeta)\n",
    "            rng_xi.append(xi)\n",
    "            rng_eta.append(eta)\n",
    "        rng_xi = np.asarray(rng_xi)\n",
    "        rng_eta = np.asarray(rng_eta)\n",
    "\n",
    "        alpha = np.arctan2(rng_eta[-1]-rng_eta[0], rng_xi[-1]-rng_xi[0])\n",
    "        print('beta = {0:.5f}    alpha = {1:.5f}'.format(beta, alpha))\n",
    "        rng_x = gammaA.real + np.cos(beta - alpha)*lcrit*(rng_xi - rng_xi[0]) - np.sin(beta - alpha)*lcrit*(rng_eta - rng_eta[0])\n",
    "        rng_y = gammaA.imag + np.sin(beta - alpha)*lcrit*(rng_xi - rng_xi[0]) + np.cos(beta - alpha)*lcrit*(rng_eta - rng_eta[0])\n",
    "        \n",
    "        phiA = 2*np.arcsin(k*np.sin(wA)) + beta - alpha\n",
    "        phiB = 2*np.arcsin(k*np.sin(wA + Deltaw)) + beta - alpha\n",
    "        print('phiA = {0:.5f}    phiB = {1:.5f}'.format(phiA, phiB))\n",
    "        \n",
    "        self.alpha = alpha\n",
    "        self.phiA = phiA\n",
    "        self.phiB = phiB\n",
    "        \n",
    "        #return(rng_xi, rng_eta)\n",
    "        return(rng_x, rng_y)\n",
    "    \n",
    "    def plot(self):\n",
    "        fig = plt.figure(figsize=(9,9))\n",
    "        ax = fig.gca(aspect='equal')\n",
    "        \n",
    "        (x, y) = self.compute_Config()\n",
    "        ax.plot(x, y, color ='b')\n",
    "        ax.grid()\n",
    "        ax.set_xlabel(r'$x$')\n",
    "        ax.set_ylabel(r'$y$')\n",
    "        "
   ]
  },
  {
   "cell_type": "code",
   "execution_count": 183,
   "metadata": {
    "collapsed": false
   },
   "outputs": [],
   "source": [
    "test_element = Elastica(gammaA=complex(0.0), gammaB=complex(10.,0.), R=-10., MA=0., MB=-120., EI=500.)"
   ]
  },
  {
   "cell_type": "code",
   "execution_count": 184,
   "metadata": {
    "collapsed": false
   },
   "outputs": [
    {
     "name": "stdout",
     "output_type": "stream",
     "text": [
      "  dAB =  10.0000  m\n",
      "    R = -10.0000 kN,          S =  12.0000 kN\n",
      "    P = -15.6205 kN\n",
      "lcrit =  17.7741 m,    lambdaAB =   0.5626\n",
      "   MA =   0.0000,            MB = -120.0000\n",
      "  muA =   0.0000,           muB =  -0.4322\n"
     ]
    }
   ],
   "source": [
    "test_element.data()"
   ]
  },
  {
   "cell_type": "code",
   "execution_count": 185,
   "metadata": {
    "collapsed": false
   },
   "outputs": [
    {
     "name": "stdout",
     "output_type": "stream",
     "text": [
      "kmin = 0.67892\n",
      "\n",
      "flag = 0\n",
      "0\n",
      "omega_0 = 1.57080,    Deltaomega_0 = 1.57080\n",
      "k = 0.67892,    lmbd = 0.52169,    f = 0.04093,\n",
      "1\n",
      "omega_0 = 1.57080,    Deltaomega_0 = 1.19826\n",
      "k = 0.72892,    lmbd = 0.45326,    f = 0.10935,\n",
      "2\n",
      "omega_0 = 1.57080,    Deltaomega_0 = 1.05849\n",
      "k = 0.77892,    lmbd = 0.43523,    f = 0.12739,\n",
      "3\n",
      "omega_0 = 1.57080,    Deltaomega_0 = 0.95974\n",
      "k = 0.82892,    lmbd = 0.43320,    f = 0.12942,\n",
      "4\n",
      "omega_0 = 1.57080,    Deltaomega_0 = 0.88269\n",
      "k = 0.87892,    lmbd = 0.44782,    f = 0.11479,\n",
      "5\n",
      "omega_0 = 1.57080,    Deltaomega_0 = 0.81960\n",
      "k = 0.92892,    lmbd = 0.49058,    f = 0.07204,\n",
      "6\n",
      "omega_0 = 1.57080,    Deltaomega_0 = 0.76639\n",
      "k = 0.97892,    lmbd = 0.62941,    f = -0.06680,\n",
      "[2.0, 2.0, 2.0, 2.0, 2.0, 0.0]\n",
      "(5, 5)\n",
      "H/|P|00 = 0.72579,    H/|P|01 = 0.72579\n",
      "5\n",
      "ka = 0.92892,    kb = 0.97892\n",
      "omega_0 = 1.57080,    Deltaomega_0 = 0.81960\n",
      "omega_0 = 1.57080,    Deltaomega_0 = 0.76639\n",
      "omega_0 = 1.57080,    Deltaomega_0 = 0.79094\n",
      "omega_0 = 1.57080,    Deltaomega_0 = 0.78412\n",
      "omega_0 = 1.57080,    Deltaomega_0 = 0.78170\n",
      "omega_0 = 1.57080,    Deltaomega_0 = 0.78178\n",
      "omega_0 = 1.57080,    Deltaomega_0 = 0.78178\n",
      "omega_0 = 1.57080,    Deltaomega_0 = 0.78178\n",
      "omega_0 = 1.57080,    Deltaomega_0 = 0.78178\n",
      "k = 0.96363,    H/|P| = 0.85718\n"
     ]
    }
   ],
   "source": [
    "test_element.compute_k()"
   ]
  },
  {
   "cell_type": "code",
   "execution_count": 186,
   "metadata": {
    "collapsed": false
   },
   "outputs": [
    {
     "name": "stdout",
     "output_type": "stream",
     "text": [
      "omega_0 = 1.57080,    Deltaomega_0 = 0.78178\n",
      "beta = 0.00000    alpha = 2.26553\n",
      "phiA = 0.33503    phiB = -0.75947\n"
     ]
    },
    {
     "data": {
      "image/png": "[encoded data removed]",
      "text/plain": [
       "<matplotlib.figure.Figure at 0x9bbe898>"
      ]
     },
     "metadata": {},
     "output_type": "display_data"
    }
   ],
   "source": [
    "test_element.plot()"
   ]
  },
  {
   "cell_type": "markdown",
   "metadata": {},
   "source": [
    "## 3 Structural form-finding (1)"
   ]
  },
  {
   "cell_type": "code",
   "execution_count": 187,
   "metadata": {
    "collapsed": false
   },
   "outputs": [],
   "source": [
    "M2 = 0.\n",
    "nextStartM = M2\n",
    "for activeMember in rng_activeMember:\n",
    "    startNode = activeMember.startNode\n",
    "    endNode = activeMember.endNode\n",
    "    activeMember.setActiveParams(rng_gamma[startNode], rng_gamma[endNode], nextStartM)\n",
    "    nextStartM = activeMember.MB"
   ]
  },
  {
   "cell_type": "code",
   "execution_count": 188,
   "metadata": {
    "collapsed": false
   },
   "outputs": [
    {
     "data": {
      "text/plain": [
       "5.4232614454664043"
      ]
     },
     "execution_count": 188,
     "metadata": {},
     "output_type": "execute_result"
    }
   ],
   "source": [
    "rng_activeMember[2].dAB"
   ]
  },
  {
   "cell_type": "code",
   "execution_count": 189,
   "metadata": {
    "collapsed": false
   },
   "outputs": [],
   "source": [
    "rng_elastica = []\n",
    "for activeMember in rng_activeMember:\n",
    "    startNode = activeMember.startNode\n",
    "    endNode = activeMember.endNode\n",
    "    R = activeMember.R\n",
    "    MA = activeMember.MA\n",
    "    MB = activeMember.MB\n",
    "    EI = activeMember.EI\n",
    "    rng_elastica.append(Elastica(rng_gamma[startNode], rng_gamma[endNode], R, MA, MB, EI))"
   ]
  },
  {
   "cell_type": "code",
   "execution_count": 190,
   "metadata": {
    "collapsed": false
   },
   "outputs": [
    {
     "name": "stdout",
     "output_type": "stream",
     "text": [
      "  dAB =   5.4233  m\n",
      "    R = -27.1163 kN,          S =  27.1163 kN\n",
      "    P = -38.3482 kN\n",
      "lcrit =  11.3439 m,    lambdaAB =   0.4781\n",
      "   MA =   0.0000,            MB = -147.0588\n",
      "  muA =   0.0000,           muB =  -0.3381\n",
      "kmin = 0.53101\n",
      "\n",
      "flag = 0\n",
      "0\n",
      "omega_0 = 1.57080,    Deltaomega_0 = 1.57080\n",
      "k = 0.53101,    lmbd = 0.51087,    f = -0.03279,\n",
      "1\n",
      "omega_0 = 1.57080,    Deltaomega_0 = 1.15290\n",
      "k = 0.58101,    lmbd = 0.40742,    f = 0.07066,\n",
      "2\n",
      "omega_0 = 1.57080,    Deltaomega_0 = 1.00010\n",
      "k = 0.63101,    lmbd = 0.37221,    f = 0.10587,\n",
      "3\n",
      "omega_0 = 1.57080,    Deltaomega_0 = 0.89425\n",
      "k = 0.68101,    lmbd = 0.35173,    f = 0.12635,\n",
      "4\n",
      "omega_0 = 1.57080,    Deltaomega_0 = 0.81308\n",
      "k = 0.73101,    lmbd = 0.34080,    f = 0.13728,\n",
      "5\n",
      "omega_0 = 1.57080,    Deltaomega_0 = 0.74763\n",
      "k = 0.78101,    lmbd = 0.33822,    f = 0.13986,\n",
      "6\n",
      "omega_0 = 1.57080,    Deltaomega_0 = 0.69319\n",
      "k = 0.83101,    lmbd = 0.34505,    f = 0.13303,\n",
      "7\n",
      "omega_0 = 1.57080,    Deltaomega_0 = 0.64692\n",
      "k = 0.88101,    lmbd = 0.36557,    f = 0.11251,\n",
      "8\n",
      "omega_0 = 1.57080,    Deltaomega_0 = 0.60694\n",
      "k = 0.93101,    lmbd = 0.41359,    f = 0.06449,\n",
      "9\n",
      "omega_0 = 1.57080,    Deltaomega_0 = 0.57197\n",
      "k = 0.98101,    lmbd = 0.56867,    f = -0.09060,\n",
      "[0.0, 2.0, 2.0, 2.0, 2.0, 2.0, 2.0, 2.0, 0.0]\n",
      "(0, 8)\n",
      "H/|P|00 = -0.43606,    H/|P|01 = 0.73356\n",
      "0\n",
      "ka = 0.53101,    kb = 0.58101\n",
      "omega_0 = 1.57080,    Deltaomega_0 = 1.57080\n",
      "omega_0 = 1.57080,    Deltaomega_0 = 1.15290\n",
      "omega_0 = 1.57080,    Deltaomega_0 = 1.32947\n",
      "omega_0 = 1.57080,    Deltaomega_0 = 1.39086\n",
      "omega_0 = 1.57080,    Deltaomega_0 = 1.43703\n",
      "omega_0 = 1.57080,    Deltaomega_0 = 1.43661\n",
      "omega_0 = 1.57080,    Deltaomega_0 = 1.43667\n",
      "omega_0 = 1.57080,    Deltaomega_0 = 1.43667\n",
      "omega_0 = 1.57080,    Deltaomega_0 = 1.43667\n",
      "k = 0.53582,    H/|P| = -0.42579\n",
      "omega_0 = 1.57080,    Deltaomega_0 = 1.43667\n",
      "beta = -2.92292    alpha = 0.78540\n",
      "phiA = -2.57736    phiB = -3.56489\n",
      "  dAB =   2.4254  m\n",
      "    R = -12.1268 kN,          S = -36.3803 kN\n",
      "    P = -38.3482 kN\n",
      "lcrit =  11.3439 m,    lambdaAB =   0.2138\n",
      "   MA = -147.0588,            MB = -58.8235\n",
      "  muA =  -0.3381,           muB =  -0.1352\n",
      "kmin = 0.53101\n",
      "\n",
      "flag = 0\n",
      "0\n",
      "omega_0 = -3.14159,    Deltaomega_0 = 1.15928\n",
      "k = 0.53101,    lmbd = 0.37184,    f = -0.15804,\n",
      "1\n",
      "omega_0 = -2.72369,    Deltaomega_0 = 0.77864\n",
      "k = 0.58101,    lmbd = 0.26854,    f = -0.05473,\n",
      "2\n",
      "omega_0 = -2.57089,    Deltaomega_0 = 0.65678\n",
      "k = 0.63101,    lmbd = 0.23732,    f = -0.02352,\n",
      "3\n",
      "omega_0 = -2.46505,    Deltaomega_0 = 0.57706\n",
      "k = 0.68101,    lmbd = 0.21922,    f = -0.00542,\n",
      "4\n",
      "omega_0 = -2.38387,    Deltaomega_0 = 0.51826\n",
      "k = 0.73101,    lmbd = 0.20853,    f = 0.00528,\n",
      "5\n",
      "omega_0 = -2.31843,    Deltaomega_0 = 0.47220\n",
      "k = 0.78101,    lmbd = 0.20342,    f = 0.01038,\n",
      "6\n",
      "omega_0 = -2.26399,    Deltaomega_0 = 0.43472\n",
      "k = 0.83101,    lmbd = 0.20366,    f = 0.01014,\n",
      "7\n",
      "omega_0 = -2.21771,    Deltaomega_0 = 0.40343\n",
      "k = 0.88101,    lmbd = 0.21046,    f = 0.00334,\n",
      "8\n",
      "omega_0 = -2.17774,    Deltaomega_0 = 0.37677\n",
      "k = 0.93101,    lmbd = 0.22788,    f = -0.01408,\n",
      "9\n",
      "omega_0 = -2.14277,    Deltaomega_0 = 0.35373\n",
      "k = 0.98101,    lmbd = 0.27083,    f = -0.05702,\n",
      "[-2.0, -2.0, -2.0, 0.0, 2.0, 2.0, 2.0, 0.0, -2.0]\n",
      "(3, 7)\n",
      "H/|P|00 = -0.07245,    H/|P|01 = 0.55236\n",
      "3\n",
      "ka = 0.68101,    kb = 0.73101\n",
      "omega_0 = -2.46505,    Deltaomega_0 = 0.57706\n",
      "omega_0 = -2.38387,    Deltaomega_0 = 0.51826\n",
      "omega_0 = -2.42154,    Deltaomega_0 = 0.54531\n",
      "omega_0 = -2.42750,    Deltaomega_0 = 0.54963\n",
      "omega_0 = -2.42730,    Deltaomega_0 = 0.54948\n",
      "omega_0 = -2.42730,    Deltaomega_0 = 0.54948\n",
      "omega_0 = -2.42730,    Deltaomega_0 = 0.54948\n",
      "omega_0 = -2.42730,    Deltaomega_0 = 0.54948\n",
      "k = 0.70281,    H/|P| = -0.01212\n",
      "omega_0 = -2.42730,    Deltaomega_0 = 0.54948\n",
      "beta = -1.81577    alpha = -1.24905\n",
      "phiA = -1.52361    phiB = -2.03499\n",
      "  dAB =   5.4233  m\n",
      "    R = -27.1163 kN,          S =  27.1163 kN\n",
      "    P = -38.3482 kN\n",
      "lcrit =  11.3439 m,    lambdaAB =   0.4781\n",
      "   MA = -58.8235,            MB = -205.8824\n",
      "  muA =  -0.1352,           muB =  -0.4733\n",
      "kmin = 0.74342\n",
      "\n",
      "flag = 0\n",
      "0\n",
      "omega_0 = -1.86055,    Deltaomega_0 = -1.28104\n",
      "k = 0.74342,    lmbd = 0.41903,    f = 0.05904,\n",
      "1\n",
      "omega_0 = -1.84181,    Deltaomega_0 = -0.94287\n",
      "k = 0.79342,    lmbd = 0.35486,    f = 0.12322,\n",
      "2\n",
      "omega_0 = -1.82538,    Deltaomega_0 = -0.82431\n",
      "k = 0.84342,    lmbd = 0.33983,    f = 0.13825,\n",
      "3\n",
      "omega_0 = -1.81084,    Deltaomega_0 = -0.74285\n",
      "k = 0.89342,    lmbd = 0.33979,    f = 0.13828,\n",
      "4\n",
      "omega_0 = -1.79789,    Deltaomega_0 = -0.68047\n",
      "k = 0.94342,    lmbd = 0.35647,    f = 0.12161,\n",
      "5\n",
      "omega_0 = -1.78627,    Deltaomega_0 = -0.63008\n",
      "k = 0.99342,    lmbd = 0.40992,    f = 0.06816,\n",
      "[2.0, 2.0, 2.0, 2.0, 2.0]\n",
      "\n",
      "flag = 1\n",
      "0\n",
      "omega_1 = -4.42264,    Deltaomega_1 = 1.28104\n",
      "k = 0.74342,    lmbd = 0.41903,    f = 0.05904,\n",
      "1\n",
      "omega_1 = -4.44137,    Deltaomega_1 = 1.65669\n",
      "k = 0.79342,    lmbd = 0.46967,    f = 0.00840,\n",
      "2\n",
      "omega_1 = -4.45781,    Deltaomega_1 = 1.80812\n",
      "k = 0.84342,    lmbd = 0.46624,    f = 0.01184,\n",
      "3\n",
      "omega_1 = -4.47235,    Deltaomega_1 = 1.91866\n",
      "k = 0.89342,    lmbd = 0.44428,    f = 0.03380,\n",
      "4\n",
      "omega_1 = -4.48530,    Deltaomega_1 = 2.00694\n",
      "k = 0.94342,    lmbd = 0.40633,    f = 0.07174,\n",
      "5\n",
      "omega_1 = -4.49691,    Deltaomega_1 = 2.08056\n",
      "k = 0.99342,    lmbd = 0.35433,    f = 0.12375,\n",
      "[2.0, 2.0, 2.0, 2.0, 2.0]\n"
     ]
    },
    {
     "ename": "ValueError",
     "evalue": "0.0 is not in list",
     "output_type": "error",
     "traceback": [
      "\u001b[1;31m---------------------------------------------------------------------------\u001b[0m\n\u001b[1;31mValueError\u001b[0m                                Traceback (most recent call last)",
      "\u001b[1;32m<ipython-input-190-9103814d4caa>\u001b[0m in \u001b[0;36m<module>\u001b[1;34m()\u001b[0m\n\u001b[0;32m      1\u001b[0m \u001b[1;32mfor\u001b[0m \u001b[0melement\u001b[0m \u001b[1;32min\u001b[0m \u001b[0mrng_elastica\u001b[0m\u001b[1;33m:\u001b[0m\u001b[1;33m\u001b[0m\u001b[0m\n\u001b[0;32m      2\u001b[0m     \u001b[0melement\u001b[0m\u001b[1;33m.\u001b[0m\u001b[0mdata\u001b[0m\u001b[1;33m(\u001b[0m\u001b[1;33m)\u001b[0m\u001b[1;33m\u001b[0m\u001b[0m\n\u001b[1;32m----> 3\u001b[1;33m     \u001b[0melement\u001b[0m\u001b[1;33m.\u001b[0m\u001b[0mcompute_k\u001b[0m\u001b[1;33m(\u001b[0m\u001b[1;33m)\u001b[0m\u001b[1;33m\u001b[0m\u001b[0m\n\u001b[0m\u001b[0;32m      4\u001b[0m     \u001b[0melement\u001b[0m\u001b[1;33m.\u001b[0m\u001b[0mplot\u001b[0m\u001b[1;33m(\u001b[0m\u001b[1;33m)\u001b[0m\u001b[1;33m\u001b[0m\u001b[0m\n",
      "\u001b[1;32m<ipython-input-182-49f5650a69b2>\u001b[0m in \u001b[0;36mcompute_k\u001b[1;34m(self)\u001b[0m\n\u001b[0;32m     86\u001b[0m             \u001b[1;32mprint\u001b[0m\u001b[1;33m(\u001b[0m\u001b[0mrng_index\u001b[0m\u001b[1;33m)\u001b[0m\u001b[1;33m\u001b[0m\u001b[0m\n\u001b[0;32m     87\u001b[0m \u001b[1;33m\u001b[0m\u001b[0m\n\u001b[1;32m---> 88\u001b[1;33m             \u001b[0mindex00\u001b[0m \u001b[1;33m=\u001b[0m \u001b[0mrng_index\u001b[0m\u001b[1;33m.\u001b[0m\u001b[0mindex\u001b[0m\u001b[1;33m(\u001b[0m\u001b[1;36m0.\u001b[0m\u001b[1;33m)\u001b[0m\u001b[1;33m\u001b[0m\u001b[0m\n\u001b[0m\u001b[0;32m     89\u001b[0m             \u001b[0mindex01\u001b[0m \u001b[1;33m=\u001b[0m \u001b[0mlen\u001b[0m\u001b[1;33m(\u001b[0m\u001b[0mrng_index\u001b[0m\u001b[1;33m)\u001b[0m \u001b[1;33m-\u001b[0m \u001b[1;33m(\u001b[0m\u001b[0mrng_index\u001b[0m\u001b[1;33m[\u001b[0m\u001b[1;33m:\u001b[0m\u001b[1;33m:\u001b[0m\u001b[1;33m-\u001b[0m\u001b[1;36m1\u001b[0m\u001b[1;33m]\u001b[0m\u001b[1;33m)\u001b[0m\u001b[1;33m.\u001b[0m\u001b[0mindex\u001b[0m\u001b[1;33m(\u001b[0m\u001b[1;36m0.\u001b[0m\u001b[1;33m)\u001b[0m \u001b[1;33m-\u001b[0m \u001b[1;36m1\u001b[0m\u001b[1;33m\u001b[0m\u001b[0m\n\u001b[0;32m     90\u001b[0m             \u001b[1;31m#print(index00, index01)\u001b[0m\u001b[1;33m\u001b[0m\u001b[1;33m\u001b[0m\u001b[0m\n",
      "\u001b[1;31mValueError\u001b[0m: 0.0 is not in list"
     ]
    },
    {
     "data": {
      "image/png": "[encoded data removed]",
      "text/plain": [
       "<matplotlib.figure.Figure at 0xc9957b8>"
      ]
     },
     "metadata": {},
     "output_type": "display_data"
    },
    {
     "data": {
      "image/png": "[encoded data removed]",
      "text/plain": [
       "<matplotlib.figure.Figure at 0xcf16860>"
      ]
     },
     "metadata": {},
     "output_type": "display_data"
    }
   ],
   "source": [
    "for element in rng_elastica:\n",
    "    element.data()\n",
    "    element.compute_k()\n",
    "    element.plot()"
   ]
  },
  {
   "cell_type": "code",
   "execution_count": 170,
   "metadata": {
    "collapsed": false
   },
   "outputs": [],
   "source": []
  },
  {
   "cell_type": "code",
   "execution_count": null,
   "metadata": {
    "collapsed": false
   },
   "outputs": [],
   "source": []
  }
 ],
 "metadata": {
  "kernelspec": {
   "display_name": "Python 3",
   "language": "python",
   "name": "python3"
  },
  "language_info": {
   "codemirror_mode": {
    "name": "ipython",
    "version": 3
   },
   "file_extension": ".py",
   "mimetype": "text/x-python",
   "name": "python",
   "nbconvert_exporter": "python",
   "pygments_lexer": "ipython3",
   "version": "3.5.1"
  }
 },
 "nbformat": 4,
 "nbformat_minor": 0
}
