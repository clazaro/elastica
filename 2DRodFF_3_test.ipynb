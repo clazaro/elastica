{
 "cells": [
  {
   "cell_type": "markdown",
   "metadata": {},
   "source": [
    "&copy;  C. Lázaro, Universidad Politécnica de Valencia, 2015"
   ]
  },
  {
   "cell_type": "markdown",
   "metadata": {},
   "source": [
    "# Form finding of planar flexible rods (3)"
   ]
  },
  {
   "cell_type": "markdown",
   "metadata": {},
   "source": [
    "We will implement the force density method and apply it with active bent members"
   ]
  },
  {
   "cell_type": "code",
   "execution_count": 1,
   "metadata": {
    "collapsed": false
   },
   "outputs": [],
   "source": [
    "import numpy as np\n",
    "import matplotlib\n",
    "import matplotlib.pyplot as plt\n",
    "from mpl_toolkits.mplot3d import Axes3D\n",
    "%matplotlib inline"
   ]
  },
  {
   "cell_type": "markdown",
   "metadata": {},
   "source": [
    "## 1 Classical 2D Force density equations"
   ]
  },
  {
   "cell_type": "markdown",
   "metadata": {},
   "source": [
    "### 1.1 Connectivity matrix"
   ]
  },
  {
   "cell_type": "markdown",
   "metadata": {},
   "source": [
    "Following [Schek, 1973](http://www.sciencedirect.com/science/article/pii/0045782574900450), the connectivity matrix $[\\mathbf{C}_l \\;\\mathbf{C}_f]$ has $\\mathsf{M}$ rows and $\\mathsf{N}$ columns, being $\\mathsf{N}$ the number of nodes and $\\mathsf{M}$ the number of members in the structure. $\\mathbf{C}_f$ gathers the columns which correspond to the restrained nodes. The definition of the elements is as follows:\n",
    "Given a member $m$ with end nodes $j, k$\n",
    "$$C[m, i] = \n",
    "\\begin{Bmatrix}\n",
    "+1 \\;\\text{for}\\; i = j \\\\\n",
    "-1 \\;\\text{for}\\; i = k \\\\\n",
    "0 \\;\\text{otherwise}\n",
    "\\end{Bmatrix}$$"
   ]
  },
  {
   "cell_type": "code",
   "execution_count": 54,
   "metadata": {
    "collapsed": false
   },
   "outputs": [],
   "source": [
    "NN = 6\n",
    "NF = 5\n",
    "MM = 5\n",
    "C = np.zeros((MM, NN))"
   ]
  },
  {
   "cell_type": "code",
   "execution_count": 58,
   "metadata": {
    "collapsed": false
   },
   "outputs": [],
   "source": [
    "C[0, 0] = 1; C[0, 1] = -1    # element 1\n",
    "C[1, 0] = 1; C[1, 2] = -1    # element 2\n",
    "C[2, 0] = 1; C[2, 3] = -1    # element 3\n",
    "C[3, 0] = 1; C[3, 4] = -1    # element 4\n",
    "C[4, 0] = 1; C[4, 5] = -1    # element 4"
   ]
  },
  {
   "cell_type": "code",
   "execution_count": 59,
   "metadata": {
    "collapsed": false
   },
   "outputs": [],
   "source": [
    "CL = C[:, 0:(NN - NF)]\n",
    "CF = C[:, (NN - NF):]"
   ]
  },
  {
   "cell_type": "code",
   "execution_count": 60,
   "metadata": {
    "collapsed": false
   },
   "outputs": [
    {
     "name": "stdout",
     "output_type": "stream",
     "text": [
      "[[ 1. -1.  0.  0.  0.  0.]\n",
      " [ 1.  0. -1.  0.  0.  0.]\n",
      " [ 1.  0.  0. -1.  0.  0.]\n",
      " [ 1.  0.  0.  0. -1.  0.]\n",
      " [ 1.  0.  0.  0.  0. -1.]]\n"
     ]
    }
   ],
   "source": [
    "print(C)"
   ]
  },
  {
   "cell_type": "markdown",
   "metadata": {},
   "source": [
    "We consider now the equilibrium of the node $i$ joining nodes $j, k, l$ through members $m, n, r$, respectively\n",
    "$$ N_m \\lambda_m + N_n \\lambda_n + N_r \\lambda_r + \\phi_i = \\mathbf{0}$$\n",
    "where $N_m$ are the axial forces of member $m$ etc., $\\lambda_m = (\\gamma_j - \\gamma_i)/d_m$, etc., are the unit vectors pointing from node $i$ outwards, and $\\phi_i$ is the external force vector acting on node $i$. Therefore we may write\n",
    "$$q_m (\\gamma_i - \\gamma_j) + q_n (\\gamma_i - \\gamma_k) + q_r  (\\gamma_i - \\gamma_l) = \\phi_i$$\n",
    "where $q_m = N_m / d_m$ are the force densities, or we can arrange the equation in matrix form as\n",
    "$$\\begin{bmatrix}\n",
    "1 & 1 & 1 \\\\\n",
    "\\end{bmatrix}\n",
    "\\begin{bmatrix}\n",
    "q_m & 0 & 0 \\\\\n",
    "0 & q_n & 0 \\\\\n",
    "0 & 0 & q_r\n",
    "\\end{bmatrix}\n",
    "\\begin{bmatrix}\n",
    "1 & -1 & 0 & 0\\\\\n",
    "1 & 0 & -1 & 0 \\\\\n",
    "1 & 0 & 0 & -1\n",
    "\\end{bmatrix}\n",
    "\\begin{Bmatrix}\n",
    "\\gamma_i \\\\\n",
    "\\gamma_j \\\\\n",
    "\\gamma_k \\\\\n",
    "\\gamma_l\n",
    "\\end{Bmatrix} = \\phi_i\n",
    "$$\n",
    "The system of equations for the complete structure is as follows:\n",
    "$$\\begin{bmatrix}\n",
    "\\mathbf{C}^{\\mathsf{T}}_l \\\\\n",
    "\\mathbf{C}^{\\mathsf{T}}_f\n",
    "\\end{bmatrix}\n",
    "\\mathbf{Q}\\;\n",
    "\\begin{bmatrix}\n",
    "\\mathbf{C}_l & \\mathbf{C}_f\n",
    "\\end{bmatrix}\n",
    "\\begin{Bmatrix}\n",
    "\\mathbf{\\gamma}_l \\\\\n",
    "\\mathbf{\\gamma}_f\n",
    "\\end{Bmatrix} =\n",
    "\\begin{Bmatrix}\n",
    "\\mathbf{\\phi}_l\\\\\n",
    "\\mathbf{\\phi}_f\n",
    "\\end{Bmatrix}\n",
    "$$"
   ]
  },
  {
   "cell_type": "markdown",
   "metadata": {},
   "source": [
    "### 1.2 Force density matrix"
   ]
  },
  {
   "cell_type": "code",
   "execution_count": 86,
   "metadata": {
    "collapsed": false
   },
   "outputs": [],
   "source": [
    "q = [5., -1.5, 5., -7.5, 2.5]    # force densities in kN/m corresponding to every element\n",
    "qQ = np.diagflat(q)"
   ]
  },
  {
   "cell_type": "markdown",
   "metadata": {},
   "source": [
    "### 1.3 Restrained nodes"
   ]
  },
  {
   "cell_type": "markdown",
   "metadata": {},
   "source": [
    "We are using complex numbers for working in the 2D plane"
   ]
  },
  {
   "cell_type": "code",
   "execution_count": 87,
   "metadata": {
    "collapsed": false
   },
   "outputs": [],
   "source": [
    "gammaF = np.array([-5. + -5.*1j, 3. + -5.*1j, 5. + 3.*1j, -1. + 6.*1j, -5. + 5.*1j ])"
   ]
  },
  {
   "cell_type": "markdown",
   "metadata": {},
   "source": [
    "### 1.4 External forces"
   ]
  },
  {
   "cell_type": "code",
   "execution_count": 88,
   "metadata": {
    "collapsed": false
   },
   "outputs": [],
   "source": [
    "fL = np.array([0. + (-5.)*1j])"
   ]
  },
  {
   "cell_type": "markdown",
   "metadata": {},
   "source": [
    "### 1.5 Solving for the free nodes"
   ]
  },
  {
   "cell_type": "markdown",
   "metadata": {},
   "source": [
    "$$\\mathbf{D}_l = \\mathbf{C}_l^{\\mathsf{T}} \\,\\mathbf{Q}\\,\\mathbf{C}_l$$\n",
    "$$\\mathbf{D}_f = \\mathbf{C}_l^{\\mathsf{T}} \\,\\mathbf{Q}\\,\\mathbf{C}_f $$\n",
    "$$\\mathbf{\\gamma}_l = \\mathbf{D}_l^{-1} \\bigl( \\mathbf{\\phi}_l - \\mathbf{D}_f \\,\\mathbf{\\gamma}_f \\bigr)$$"
   ]
  },
  {
   "cell_type": "code",
   "execution_count": 89,
   "metadata": {
    "collapsed": false
   },
   "outputs": [
    {
     "data": {
      "text/plain": [
       "array([-2.71428571-11.42857143j])"
      ]
     },
     "execution_count": 89,
     "metadata": {},
     "output_type": "execute_result"
    }
   ],
   "source": [
    "gammaL = np.zeros(NN - NF)\n",
    "DL = np.zeros((NN - NF, NN - NF))\n",
    "DF = np.zeros((NN - NF, NF))\n",
    "\n",
    "DL = np.dot(np.transpose(CL), np.dot(qQ, CL))\n",
    "DF = np.dot(np.transpose(CL), np.dot(qQ, CF))\n",
    "\n",
    "gammaL = np.linalg.solve(DL, fL - np.dot(DF, gammaF))\n",
    "gammaL"
   ]
  },
  {
   "cell_type": "code",
   "execution_count": 92,
   "metadata": {
    "collapsed": false
   },
   "outputs": [
    {
     "data": {
      "text/plain": [
       "<matplotlib.text.Text at 0xd8b07f0>"
      ]
     },
     "execution_count": 92,
     "metadata": {},
     "output_type": "execute_result"
    },
    {
     "data": {
      "image/png": "[encoded data removed]",
      "text/plain": [
       "<matplotlib.figure.Figure at 0xd8b9fd0>"
      ]
     },
     "metadata": {},
     "output_type": "display_data"
    }
   ],
   "source": [
    "fig = plt.figure(figsize=(9,9))\n",
    "\n",
    "ax = fig.gca(aspect='equal')\n",
    "ax.scatter(gammaF.real, gammaF.imag, color='b')\n",
    "ax.scatter(gammaL.real, gammaL.imag, color='r')\n",
    "for i in range(MM):\n",
    "    if q[i] > 0.:\n",
    "        col = 'b'\n",
    "    else:\n",
    "        col = 'r'\n",
    "    ax.plot([gammaL.real[0], gammaF.real[i]], [gammaL.imag[0], gammaF.imag[i]], color = col)\n",
    "ax.set_xlabel('$x$')\n",
    "ax.set_ylabel('$y$')"
   ]
  },
  {
   "cell_type": "markdown",
   "metadata": {},
   "source": [
    "## 2 Force density for active bending members"
   ]
  },
  {
   "cell_type": "markdown",
   "metadata": {},
   "source": [
    "The equilibrium equation for node $J$ with active bending members $IJ$ and $JK$ and tension (compression) member $JL$ is\n",
    "$$N_{IJ} (\\mathbf{x}_I - \\mathbf{x}_J)/d_{IJ} + V_{IJ} \\mathbf{J}(\\mathbf{x}_I - \\mathbf{x}_J)/d_{IJ} +\n",
    "N_{JK} (\\mathbf{x}_K - \\mathbf{x}_J)/d_{KJ} + V_{JK} \\mathbf{J}(\\mathbf{x}_K - \\mathbf{x}_J)/d_{IJ} +\n",
    "N_{JL} (\\mathbf{x}_L - \\mathbf{x}_J)/d_{JL} + \\mathbf{f}_J = \\mathbf{0}$$\n",
    "where\n",
    "$$ \\mathbf{J} =\n",
    "\\begin{bmatrix}\n",
    "0 & -1 \\\\\n",
    "1 & \\;\\;0\n",
    "\\end{bmatrix}$$\n",
    "Rearranging the equilibrium equation,\n",
    "$$n_{IJ} (\\mathbf{x}_J - \\mathbf{x}_I) + v_{IJ} \\mathbf{J}(\\mathbf{x}_J - \\mathbf{x}_I) +\n",
    "n_{JK} (\\mathbf{x}_J - \\mathbf{x}_K) + v_{JK} \\mathbf{J}(\\mathbf{x}_J - \\mathbf{x}_K) +\n",
    "n_{JL} (\\mathbf{x}_J - \\mathbf{x}_L) = \\mathbf{f}_J$$"
   ]
  },
  {
   "cell_type": "markdown",
   "metadata": {},
   "source": [
    "Defining\n",
    "$$\\mathbf{q}_{IJ} = \\frac{N_{IJ}}{d_{IJ}}\\mathbf{1} + \\frac{V_{IJ}}{d_{IJ}}\\mathbf{J} =\n",
    "\\begin{bmatrix}\n",
    "n_{IJ} & -v_{IJ} \\\\\n",
    "v_{IJ} & \\;\\;n_{IJ}\n",
    "\\end{bmatrix}$$\n",
    "we can rearrange the equilibrium equation in the following way\n",
    "$$\\begin{bmatrix}\n",
    "\\mathbf{1} & \\mathbf{1} & \\mathbf{1}\n",
    "\\end{bmatrix}\n",
    "\\begin{bmatrix}\n",
    "\\mathbf{q}_{IJ} & \\mathbf{0} & \\mathbf{0} \\\\\n",
    "\\mathbf{0} & \\mathbf{q}_{JK} & \\mathbf{0} \\\\\n",
    "\\mathbf{0} & \\mathbf{0} & \\mathbf{q}_{KL}\n",
    "\\end{bmatrix}\n",
    "\\begin{bmatrix}\n",
    "-\\mathbf{1} & \\mathbf{1} & \\mathbf{0} & \\mathbf{0} \\\\\n",
    "\\mathbf{0} & \\mathbf{1} & -\\mathbf{1} & \\mathbf{0} \\\\\n",
    "\\mathbf{0} & \\mathbf{1} & \\mathbf{0} & -\\mathbf{1}\n",
    "\\end{bmatrix}\n",
    "\\begin{bmatrix}\n",
    "\\mathbf{x}_I \\\\\n",
    "\\mathbf{x}_J \\\\\n",
    "\\mathbf{x}_K \\\\\n",
    "\\mathbf{x}_L\n",
    "\\end{bmatrix} = \\mathbf{f}_J\n",
    "$$\n",
    "Therefore, the system of equations for the complete structure has the same form as in the original case. Only the force density matrix has the new structure indicated above, where tension/compression force densities are complemented by shear densities in the appropriate positions."
   ]
  },
  {
   "cell_type": "markdown",
   "metadata": {},
   "source": [
    "### 2.1 An elegant alternate way of expressing the equations"
   ]
  },
  {
   "cell_type": "markdown",
   "metadata": {},
   "source": [
    "In 2D we may choose to express the product $\\mathbf{J} (\\mathbf{x}_J - \\mathbf{x}_I)$ using complex numbers as\n",
    "$$\\exp{(i \\frac{\\pi}{2})}(\\gamma_J - \\gamma_I) = i \\,(\\gamma_J - \\gamma_I)$$\n",
    "Then we define the _complex force density_ as $q_{IJ} = n_{IJ} + i \\,v_{IJ}$, and we may rearrange the former expression in the following way\n",
    "$$\\begin{bmatrix}\n",
    "1 & 1 & 1\n",
    "\\end{bmatrix}\n",
    "\\begin{bmatrix}\n",
    "q_{IJ} & 0 & 0 \\\\\n",
    "0 & q_{JK} & 0 \\\\\n",
    "0 & 0 & q_{KL}\n",
    "\\end{bmatrix}\n",
    "\\begin{bmatrix}\n",
    "-1 & 1 & 0 & 0 \\\\\n",
    "0 & 1 & -1 & 0 \\\\\n",
    "0 & 1 & 0 & -1\n",
    "\\end{bmatrix}\n",
    "\\begin{bmatrix}\n",
    "\\gamma_I \\\\\n",
    "\\gamma_J \\\\\n",
    "\\gamma_K \\\\\n",
    "\\gamma_L\n",
    "\\end{bmatrix} = \\phi_J\n",
    "$$"
   ]
  },
  {
   "cell_type": "code",
   "execution_count": 165,
   "metadata": {
    "collapsed": false
   },
   "outputs": [],
   "source": [
    "NN = 6\n",
    "NF = 4\n",
    "MM = 5\n",
    "C = np.zeros((MM, NN))"
   ]
  },
  {
   "cell_type": "code",
   "execution_count": 166,
   "metadata": {
    "collapsed": false
   },
   "outputs": [],
   "source": [
    "C[0, 0] = 1; C[0, 2] = -1    # element 1\n",
    "C[1, 0] = 1; C[1, 1] = -1    # element 2\n",
    "C[2, 1] = 1; C[2, 5] = -1    # element 3\n",
    "C[3, 0] = 1; C[3, 3] = -1    # element 4\n",
    "C[4, 1] = 1; C[4, 4] = -1    # element 5"
   ]
  },
  {
   "cell_type": "code",
   "execution_count": 167,
   "metadata": {
    "collapsed": false
   },
   "outputs": [],
   "source": [
    "CL = C[:, 0:(NN - NF)]\n",
    "CF = C[:, (NN - NF):]"
   ]
  },
  {
   "cell_type": "code",
   "execution_count": 168,
   "metadata": {
    "collapsed": false
   },
   "outputs": [
    {
     "name": "stdout",
     "output_type": "stream",
     "text": [
      "[[ 1.  0. -1.  0.  0.  0.]\n",
      " [ 1. -1.  0.  0.  0.  0.]\n",
      " [ 0.  1.  0.  0.  0. -1.]\n",
      " [ 1.  0.  0. -1.  0.  0.]\n",
      " [ 0.  1.  0.  0. -1.  0.]]\n"
     ]
    }
   ],
   "source": [
    "print(C)"
   ]
  },
  {
   "cell_type": "code",
   "execution_count": 169,
   "metadata": {
    "collapsed": false
   },
   "outputs": [],
   "source": [
    "gammaF = np.array([-5. + 0.*1j, 0. + 2.5*1j, 0 - 2.5*1j, 5. + 0.*1j])"
   ]
  },
  {
   "cell_type": "code",
   "execution_count": 364,
   "metadata": {
    "collapsed": false
   },
   "outputs": [
    {
     "name": "stdout",
     "output_type": "stream",
     "text": [
      "[[-5.+1.35j  0.+0.j    0.+0.j    0.+0.j    0.+0.j  ]\n",
      " [ 0.+0.j   -5.-5.j    0.+0.j    0.+0.j    0.+0.j  ]\n",
      " [ 0.+0.j    0.+0.j   -5.+1.35j  0.+0.j    0.+0.j  ]\n",
      " [ 0.+0.j    0.+0.j    0.+0.j    0.+0.j    0.+0.j  ]\n",
      " [ 0.+0.j    0.+0.j    0.+0.j    0.+0.j    0.+0.j  ]]\n"
     ]
    }
   ],
   "source": [
    "q = [-5. + 1.35*1j, -5. + -5.*1j, -5. + 1.35*1j, 0., 0.]    # force densities in kN/m corresponding to every element\n",
    "qQ = np.diagflat(q)\n",
    "print(qQ)"
   ]
  },
  {
   "cell_type": "code",
   "execution_count": 365,
   "metadata": {
    "collapsed": false
   },
   "outputs": [],
   "source": [
    "fL = np.array([0. + (0.)*1j])"
   ]
  },
  {
   "cell_type": "code",
   "execution_count": 366,
   "metadata": {
    "collapsed": false
   },
   "outputs": [
    {
     "name": "stdout",
     "output_type": "stream",
     "text": [
      "[-1.0559998+1.05895988j  1.0559998-1.05895988j]\n"
     ]
    }
   ],
   "source": [
    "gammaL = np.zeros(NN - NF)\n",
    "DL = np.zeros((NN - NF, NN - NF))\n",
    "DF = np.zeros((NN - NF, NF))\n",
    "\n",
    "DL = np.dot(np.transpose(CL), np.dot(qQ, CL))\n",
    "DF = np.dot(np.transpose(CL), np.dot(qQ, CF))\n",
    "\n",
    "gammaL = np.linalg.solve(DL, fL - np.dot(DF, gammaF))\n",
    "print(gammaL)"
   ]
  },
  {
   "cell_type": "code",
   "execution_count": 367,
   "metadata": {
    "collapsed": false
   },
   "outputs": [
    {
     "data": {
      "text/plain": [
       "<matplotlib.text.Text at 0x141054a8>"
      ]
     },
     "execution_count": 367,
     "metadata": {},
     "output_type": "execute_result"
    },
    {
     "data": {
      "image/png": "[encoded data removed]",
      "text/plain": [
       "<matplotlib.figure.Figure at 0x14403f98>"
      ]
     },
     "metadata": {},
     "output_type": "display_data"
    }
   ],
   "source": [
    "fig = plt.figure(figsize=(9,9))\n",
    "\n",
    "ax = fig.gca(aspect='equal')\n",
    "ax.scatter(gammaF.real, gammaF.imag, color='b')\n",
    "ax.scatter(gammaL.real, gammaL.imag, color='r')\n",
    "ax.set_xlabel('$x$')\n",
    "ax.set_ylabel('$y$')"
   ]
  },
  {
   "cell_type": "code",
   "execution_count": 368,
   "metadata": {
    "collapsed": false
   },
   "outputs": [
    {
     "name": "stdout",
     "output_type": "stream",
     "text": [
      "[-22.51332038  44.73063229 -22.51332038  -0.          -0.        ]\n"
     ]
    }
   ],
   "source": [
    "gamma = np.concatenate((gammaL, gammaF), axis=0)\n",
    "d = np.absolute((np.dot(C, gamma)))\n",
    "f = q*d\n",
    "V = np.imag(f)\n",
    "DM = -V*d\n",
    "print(DM)"
   ]
  },
  {
   "cell_type": "code",
   "execution_count": 358,
   "metadata": {
    "collapsed": false
   },
   "outputs": [],
   "source": []
  },
  {
   "cell_type": "code",
   "execution_count": 348,
   "metadata": {
    "collapsed": false
   },
   "outputs": [],
   "source": []
  },
  {
   "cell_type": "code",
   "execution_count": null,
   "metadata": {
    "collapsed": false
   },
   "outputs": [],
   "source": []
  }
 ],
 "metadata": {
  "kernelspec": {
   "display_name": "Python 3",
   "language": "python",
   "name": "python3"
  },
  "language_info": {
   "codemirror_mode": {
    "name": "ipython",
    "version": 3
   },
   "file_extension": ".py",
   "mimetype": "text/x-python",
   "name": "python",
   "nbconvert_exporter": "python",
   "pygments_lexer": "ipython3",
   "version": "3.5.1"
  }
 },
 "nbformat": 4,
 "nbformat_minor": 0
}
